{
 "cells": [
  {
   "cell_type": "markdown",
   "metadata": {},
   "source": [
    "# Regression Week 5: Feature Selection and LASSO (Interpretation)"
   ]
  },
  {
   "cell_type": "markdown",
   "metadata": {},
   "source": [
    "In this notebook, you will use LASSO to select features, building on a pre-implemented solver for LASSO (using Turi Create, though you can use other solvers). You will:\n",
    "* Run LASSO with different L1 penalties.\n",
    "* Choose best L1 penalty using a validation set.\n",
    "* Choose best L1 penalty using a validation set, with additional constraint on the size of subset.\n",
    "\n",
    "In the second notebook, you will implement your own LASSO solver, using coordinate descent. "
   ]
  },
  {
   "cell_type": "markdown",
   "metadata": {},
   "source": [
    "# Fire up Turi Create"
   ]
  },
  {
   "cell_type": "code",
   "execution_count": 1,
   "metadata": {},
   "outputs": [],
   "source": [
    "import turicreate"
   ]
  },
  {
   "cell_type": "markdown",
   "metadata": {},
   "source": [
    "# Load in house sales data\n",
    "\n",
    "Dataset is from house sales in King County, the region where the city of Seattle, WA is located."
   ]
  },
  {
   "cell_type": "code",
   "execution_count": 2,
   "metadata": {
    "scrolled": true
   },
   "outputs": [],
   "source": [
    "sales = turicreate.SFrame('home_data.sframe/')"
   ]
  },
  {
   "cell_type": "markdown",
   "metadata": {},
   "source": [
    "# Create new features"
   ]
  },
  {
   "cell_type": "markdown",
   "metadata": {},
   "source": [
    "As in Week 2, we consider features that are some transformations of inputs."
   ]
  },
  {
   "cell_type": "code",
   "execution_count": 3,
   "metadata": {},
   "outputs": [],
   "source": [
    "from math import log, sqrt\n",
    "sales['sqft_living_sqrt'] = sales['sqft_living'].apply(sqrt)\n",
    "sales['sqft_lot_sqrt'] = sales['sqft_lot'].apply(sqrt)\n",
    "sales['bedrooms_square'] = sales['bedrooms']*sales['bedrooms']\n",
    "\n",
    "# In the dataset, 'floors' was defined with type string, \n",
    "# so we'll convert them to float, before creating a new feature.\n",
    "sales['floors'] = sales['floors'].astype(float) \n",
    "sales['floors_square'] = sales['floors']*sales['floors']"
   ]
  },
  {
   "cell_type": "markdown",
   "metadata": {},
   "source": [
    "* Squaring bedrooms will increase the separation between not many bedrooms (e.g. 1) and lots of bedrooms (e.g. 4) since 1^2 = 1 but 4^2 = 16. Consequently this variable will mostly affect houses with many bedrooms.\n",
    "* On the other hand, taking square root of sqft_living will decrease the separation between big house and small house. The owner may not be exactly twice as happy for getting a house that is twice as big."
   ]
  },
  {
   "cell_type": "markdown",
   "metadata": {},
   "source": [
    "# Learn regression weights with L1 penalty"
   ]
  },
  {
   "cell_type": "markdown",
   "metadata": {},
   "source": [
    "Let us fit a model with all the features available, plus the features we just created above."
   ]
  },
  {
   "cell_type": "code",
   "execution_count": 4,
   "metadata": {},
   "outputs": [],
   "source": [
    "all_features = ['bedrooms', 'bedrooms_square',\n",
    "                'bathrooms',\n",
    "                'sqft_living', 'sqft_living_sqrt',\n",
    "                'sqft_lot', 'sqft_lot_sqrt',\n",
    "                'floors', 'floors_square',\n",
    "                'waterfront', 'view', 'condition', 'grade',\n",
    "                'sqft_above',\n",
    "                'sqft_basement',\n",
    "                'yr_built', 'yr_renovated']"
   ]
  },
  {
   "cell_type": "markdown",
   "metadata": {},
   "source": [
    "Applying L1 penalty requires adding an extra parameter (`l1_penalty`) to the linear regression call in Turi Create. (Other tools may have separate implementations of LASSO.)  Note that it's important to set `l2_penalty=0` to ensure we don't introduce an additional L2 penalty."
   ]
  },
  {
   "cell_type": "code",
   "execution_count": 5,
   "metadata": {},
   "outputs": [
    {
     "data": {
      "text/html": [
       "<pre>Linear regression:</pre>"
      ],
      "text/plain": [
       "Linear regression:"
      ]
     },
     "metadata": {},
     "output_type": "display_data"
    },
    {
     "data": {
      "text/html": [
       "<pre>--------------------------------------------------------</pre>"
      ],
      "text/plain": [
       "--------------------------------------------------------"
      ]
     },
     "metadata": {},
     "output_type": "display_data"
    },
    {
     "data": {
      "text/html": [
       "<pre>Number of examples          : 21613</pre>"
      ],
      "text/plain": [
       "Number of examples          : 21613"
      ]
     },
     "metadata": {},
     "output_type": "display_data"
    },
    {
     "data": {
      "text/html": [
       "<pre>Number of features          : 17</pre>"
      ],
      "text/plain": [
       "Number of features          : 17"
      ]
     },
     "metadata": {},
     "output_type": "display_data"
    },
    {
     "data": {
      "text/html": [
       "<pre>Number of unpacked features : 17</pre>"
      ],
      "text/plain": [
       "Number of unpacked features : 17"
      ]
     },
     "metadata": {},
     "output_type": "display_data"
    },
    {
     "data": {
      "text/html": [
       "<pre>Number of coefficients    : 18</pre>"
      ],
      "text/plain": [
       "Number of coefficients    : 18"
      ]
     },
     "metadata": {},
     "output_type": "display_data"
    },
    {
     "data": {
      "text/html": [
       "<pre>Starting Accelerated Gradient (FISTA)</pre>"
      ],
      "text/plain": [
       "Starting Accelerated Gradient (FISTA)"
      ]
     },
     "metadata": {},
     "output_type": "display_data"
    },
    {
     "data": {
      "text/html": [
       "<pre>--------------------------------------------------------</pre>"
      ],
      "text/plain": [
       "--------------------------------------------------------"
      ]
     },
     "metadata": {},
     "output_type": "display_data"
    },
    {
     "data": {
      "text/html": [
       "<pre>Tuning step size. First iteration could take longer than subsequent iterations.</pre>"
      ],
      "text/plain": [
       "Tuning step size. First iteration could take longer than subsequent iterations."
      ]
     },
     "metadata": {},
     "output_type": "display_data"
    },
    {
     "data": {
      "text/html": [
       "<pre>+-----------+----------+-----------+--------------+--------------------+---------------------------------+</pre>"
      ],
      "text/plain": [
       "+-----------+----------+-----------+--------------+--------------------+---------------------------------+"
      ]
     },
     "metadata": {},
     "output_type": "display_data"
    },
    {
     "data": {
      "text/html": [
       "<pre>| Iteration | Passes   | Step size | Elapsed Time | Training Max Error | Training Root-Mean-Square Error |</pre>"
      ],
      "text/plain": [
       "| Iteration | Passes   | Step size | Elapsed Time | Training Max Error | Training Root-Mean-Square Error |"
      ]
     },
     "metadata": {},
     "output_type": "display_data"
    },
    {
     "data": {
      "text/html": [
       "<pre>+-----------+----------+-----------+--------------+--------------------+---------------------------------+</pre>"
      ],
      "text/plain": [
       "+-----------+----------+-----------+--------------+--------------------+---------------------------------+"
      ]
     },
     "metadata": {},
     "output_type": "display_data"
    },
    {
     "data": {
      "text/html": [
       "<pre>| 0         | 1        | 1.000000  | 1.115909     | 7700000.000000     | 653047.733994                   |</pre>"
      ],
      "text/plain": [
       "| 0         | 1        | 1.000000  | 1.115909     | 7700000.000000     | 653047.733994                   |"
      ]
     },
     "metadata": {},
     "output_type": "display_data"
    },
    {
     "data": {
      "text/html": [
       "<pre>| 1         | 2        | 0.000002  | 1.506002     | 6962915.603493     | 426631.749026                   |</pre>"
      ],
      "text/plain": [
       "| 1         | 2        | 0.000002  | 1.506002     | 6962915.603493     | 426631.749026                   |"
      ]
     },
     "metadata": {},
     "output_type": "display_data"
    },
    {
     "data": {
      "text/html": [
       "<pre>| 2         | 3        | 0.000002  | 1.535589     | 6843144.200219     | 392488.929838                   |</pre>"
      ],
      "text/plain": [
       "| 2         | 3        | 0.000002  | 1.535589     | 6843144.200219     | 392488.929838                   |"
      ]
     },
     "metadata": {},
     "output_type": "display_data"
    },
    {
     "data": {
      "text/html": [
       "<pre>| 3         | 4        | 0.000002  | 1.570187     | 6831900.032123     | 385340.166783                   |</pre>"
      ],
      "text/plain": [
       "| 3         | 4        | 0.000002  | 1.570187     | 6831900.032123     | 385340.166783                   |"
      ]
     },
     "metadata": {},
     "output_type": "display_data"
    },
    {
     "data": {
      "text/html": [
       "<pre>| 4         | 5        | 0.000002  | 1.605794     | 6847166.848958     | 384842.383767                   |</pre>"
      ],
      "text/plain": [
       "| 4         | 5        | 0.000002  | 1.605794     | 6847166.848958     | 384842.383767                   |"
      ]
     },
     "metadata": {},
     "output_type": "display_data"
    },
    {
     "data": {
      "text/html": [
       "<pre>| 5         | 6        | 0.000002  | 1.635510     | 6869667.895833     | 385998.458623                   |</pre>"
      ],
      "text/plain": [
       "| 5         | 6        | 0.000002  | 1.635510     | 6869667.895833     | 385998.458623                   |"
      ]
     },
     "metadata": {},
     "output_type": "display_data"
    },
    {
     "data": {
      "text/html": [
       "<pre>| 10        | 11       | 0.000002  | 1.757402     | 6842123.232651     | 364204.576180                   |</pre>"
      ],
      "text/plain": [
       "| 10        | 11       | 0.000002  | 1.757402     | 6842123.232651     | 364204.576180                   |"
      ]
     },
     "metadata": {},
     "output_type": "display_data"
    },
    {
     "data": {
      "text/html": [
       "<pre>+-----------+----------+-----------+--------------+--------------------+---------------------------------+</pre>"
      ],
      "text/plain": [
       "+-----------+----------+-----------+--------------+--------------------+---------------------------------+"
      ]
     },
     "metadata": {},
     "output_type": "display_data"
    },
    {
     "data": {
      "text/html": [
       "<pre>Completed (Iteration limit reached).</pre>"
      ],
      "text/plain": [
       "Completed (Iteration limit reached)."
      ]
     },
     "metadata": {},
     "output_type": "display_data"
    },
    {
     "data": {
      "text/html": [
       "<pre>This model may not be optimal. To improve it, consider increasing `max_iterations`.</pre>"
      ],
      "text/plain": [
       "This model may not be optimal. To improve it, consider increasing `max_iterations`."
      ]
     },
     "metadata": {},
     "output_type": "display_data"
    }
   ],
   "source": [
    "model_all = turicreate.linear_regression.create(sales, target='price', features=all_features,\n",
    "                                                validation_set=None, \n",
    "                                                l2_penalty=0., l1_penalty=1e10)"
   ]
  },
  {
   "cell_type": "markdown",
   "metadata": {},
   "source": [
    "Find what features had non-zero weight."
   ]
  },
  {
   "cell_type": "code",
   "execution_count": 7,
   "metadata": {},
   "outputs": [
    {
     "name": "stdout",
     "output_type": "stream",
     "text": [
      "+------------------+-------+--------------------+--------+\n",
      "|       name       | index |       value        | stderr |\n",
      "+------------------+-------+--------------------+--------+\n",
      "|   (intercept)    |  None | 274873.05595049576 |  None  |\n",
      "|     bedrooms     |  None |        0.0         |  None  |\n",
      "| bedrooms_square  |  None |        0.0         |  None  |\n",
      "|    bathrooms     |  None | 8468.531086910105  |  None  |\n",
      "|   sqft_living    |  None | 24.42072098244546  |  None  |\n",
      "| sqft_living_sqrt |  None | 350.06055338605546 |  None  |\n",
      "|     sqft_lot     |  None |        0.0         |  None  |\n",
      "|  sqft_lot_sqrt   |  None |        0.0         |  None  |\n",
      "|      floors      |  None |        0.0         |  None  |\n",
      "|  floors_square   |  None |        0.0         |  None  |\n",
      "|    waterfront    |  None |        0.0         |  None  |\n",
      "|       view       |  None |        0.0         |  None  |\n",
      "|    condition     |  None |        0.0         |  None  |\n",
      "|      grade       |  None | 842.0680348976231  |  None  |\n",
      "|    sqft_above    |  None | 20.024722417091112 |  None  |\n",
      "|  sqft_basement   |  None |        0.0         |  None  |\n",
      "|     yr_built     |  None |        0.0         |  None  |\n",
      "|   yr_renovated   |  None |        0.0         |  None  |\n",
      "+------------------+-------+--------------------+--------+\n",
      "[18 rows x 4 columns]\n",
      "\n"
     ]
    }
   ],
   "source": [
    "model_all.coefficients.print_rows(18)"
   ]
  },
  {
   "cell_type": "markdown",
   "metadata": {},
   "source": [
    "Note that a majority of the weights have been set to zero. So by setting an L1 penalty that's large enough, we are performing a subset selection. \n",
    "\n",
    "***QUIZ QUESTION***:\n",
    "According to this list of weights, which of the features have been chosen? "
   ]
  },
  {
   "cell_type": "markdown",
   "metadata": {},
   "source": [
    "# Selecting an L1 penalty"
   ]
  },
  {
   "cell_type": "markdown",
   "metadata": {},
   "source": [
    "To find a good L1 penalty, we will explore multiple values using a validation set. Let us do three way split into train, validation, and test sets:\n",
    "* Split our sales data into 2 sets: training and test\n",
    "* Further split our training data into two sets: train, validation\n",
    "\n",
    "Be *very* careful that you use seed = 1 to ensure you get the same answer!"
   ]
  },
  {
   "cell_type": "code",
   "execution_count": 12,
   "metadata": {},
   "outputs": [],
   "source": [
    "(training_and_validation, testing) = sales.random_split(.9,seed=1) # initial train/test split\n",
    "(training, validation) = training_and_validation.random_split(0.5, seed=1) # split training into train and validate"
   ]
  },
  {
   "cell_type": "markdown",
   "metadata": {},
   "source": [
    "Next, we write a loop that does the following:\n",
    "* For `l1_penalty` in [10^1, 10^1.5, 10^2, 10^2.5, ..., 10^7] (to get this in Python, type `np.logspace(1, 7, num=13)`.)\n",
    "    * Fit a regression model with a given `l1_penalty` on TRAIN data. Specify `l1_penalty=l1_penalty` and `l2_penalty=0.` in the parameter list.\n",
    "    * Compute the RSS on VALIDATION data (here you will want to use `.predict()`) for that `l1_penalty`\n",
    "* Report which `l1_penalty` produced the lowest RSS on validation data.\n",
    "\n",
    "When you call `linear_regression.create()` make sure you set `validation_set = None`.\n",
    "\n",
    "Note: you can turn off the print out of `linear_regression.create()` with `verbose = False`"
   ]
  },
  {
   "cell_type": "code",
   "execution_count": 13,
   "metadata": {},
   "outputs": [],
   "source": [
    "import numpy as np"
   ]
  },
  {
   "cell_type": "code",
   "execution_count": 34,
   "metadata": {},
   "outputs": [
    {
     "name": "stdout",
     "output_type": "stream",
     "text": [
      "13\n",
      "10.0 --> 625766285142460.6\n",
      "31.622776601683793 --> 625766285362393.8\n",
      "100.0 --> 625766286057885.2\n",
      "316.22776601683796 --> 625766288257224.9\n",
      "1000.0 --> 625766295212186.0\n",
      "3162.2776601683795 --> 625766317206080.6\n",
      "10000.0 --> 625766386760658.2\n",
      "31622.776601683792 --> 625766606749278.6\n",
      "100000.0 --> 625767302791635.2\n",
      "316227.7660168379 --> 625769507643886.0\n",
      "1000000.0 --> 625776517727024.4\n",
      "3162277.6601683795 --> 625799062845466.5\n",
      "10000000.0 --> 625883719085425.1\n"
     ]
    }
   ],
   "source": [
    "penalty_set=np.logspace(1,7,num=13)\n",
    "handle=turicreate.SFrame()\n",
    "array1=np.array([])\n",
    "array2=np.array([])\n",
    "print(penalty_set.size)\n",
    "for l1_penalty in penalty_set:\n",
    "    model=turicreate.linear_regression.create(training,\n",
    "                                              target='price',\n",
    "                                              features=all_features,\n",
    "                                             l1_penalty=l1_penalty,\n",
    "                                             l2_penalty=0,\n",
    "                                             validation_set=None,verbose = False)\n",
    "    validation_output=model.predict(validation)\n",
    "    error=validation_output-validation['price']\n",
    "    rss=np.dot(error,error)\n",
    "    array1=np.append(array1,[l1_penalty])\n",
    "    array2=np.append(array2,[rss])\n",
    "    print(l1_penalty, '-->', rss)\n",
    "    "
   ]
  },
  {
   "cell_type": "code",
   "execution_count": 40,
   "metadata": {},
   "outputs": [
    {
     "name": "stdout",
     "output_type": "stream",
     "text": [
      "+--------------------+-------------------+\n",
      "|     l1_penalty     |        rss        |\n",
      "+--------------------+-------------------+\n",
      "|        10.0        | 625766285142460.6 |\n",
      "| 31.622776601683793 | 625766285362393.8 |\n",
      "|       100.0        | 625766286057885.2 |\n",
      "| 316.22776601683796 | 625766288257224.9 |\n",
      "|       1000.0       | 625766295212186.0 |\n",
      "| 3162.2776601683795 | 625766317206080.6 |\n",
      "|      10000.0       | 625766386760658.2 |\n",
      "| 31622.776601683792 | 625766606749278.6 |\n",
      "|      100000.0      | 625767302791635.2 |\n",
      "| 316227.7660168379  | 625769507643886.0 |\n",
      "|     1000000.0      | 625776517727024.4 |\n",
      "| 3162277.6601683795 | 625799062845466.5 |\n",
      "|     10000000.0     | 625883719085425.1 |\n",
      "+--------------------+-------------------+\n",
      "[13 rows x 2 columns]\n",
      "\n"
     ]
    }
   ],
   "source": [
    "handle['l1_penalty']=array1\n",
    "handle['rss']=array2\n",
    "handle.sort('rss',ascending=True)\n",
    "handle.print_rows(13)"
   ]
  },
  {
   "cell_type": "markdown",
   "metadata": {},
   "source": [
    "*** QUIZ QUESTION. *** What was the best value for the `l1_penalty`?"
   ]
  },
  {
   "cell_type": "code",
   "execution_count": 44,
   "metadata": {},
   "outputs": [],
   "source": [
    "model=turicreate.linear_regression.create(training,\n",
    "                                              target='price',\n",
    "                                              features=all_features,\n",
    "                                             l1_penalty=10,\n",
    "                                             l2_penalty=0,\n",
    "                                             validation_set=None,verbose = False)\n",
    "model1=turicreate.linear_regression.create(training,\n",
    "                                              target='price',\n",
    "                                              features=all_features,\n",
    "                                             l1_penalty=0,\n",
    "                                             l2_penalty=0,\n",
    "                                             validation_set=None,verbose = False)"
   ]
  },
  {
   "cell_type": "markdown",
   "metadata": {},
   "source": [
    "***QUIZ QUESTION***\n",
    "Also, using this value of L1 penalty, how many nonzero weights do you have?"
   ]
  },
  {
   "cell_type": "code",
   "execution_count": 45,
   "metadata": {},
   "outputs": [
    {
     "name": "stdout",
     "output_type": "stream",
     "text": [
      "+------------------+-------+----------------------+--------+\n",
      "|       name       | index |        value         | stderr |\n",
      "+------------------+-------+----------------------+--------+\n",
      "|   (intercept)    |  None |   18993.4272127706   |  None  |\n",
      "|     bedrooms     |  None |  7936.9676790313015  |  None  |\n",
      "| bedrooms_square  |  None |  936.9933681932994   |  None  |\n",
      "|    bathrooms     |  None |  25409.588934120668  |  None  |\n",
      "|   sqft_living    |  None |  39.11513637970764   |  None  |\n",
      "| sqft_living_sqrt |  None |  1124.650212807717   |  None  |\n",
      "|     sqft_lot     |  None | 0.003483618222989654 |  None  |\n",
      "|  sqft_lot_sqrt   |  None |  148.25839101140826  |  None  |\n",
      "|      floors      |  None |  21204.335466950117  |  None  |\n",
      "|  floors_square   |  None |  12915.524336072433  |  None  |\n",
      "|    waterfront    |  None |   601905.594545272   |  None  |\n",
      "|       view       |  None |  93312.85731187189   |  None  |\n",
      "|    condition     |  None |  6609.035712447216   |  None  |\n",
      "|      grade       |  None |  6206.939991880552   |  None  |\n",
      "|    sqft_above    |  None |  43.287053419335614  |  None  |\n",
      "|  sqft_basement   |  None |  122.3678275341193   |  None  |\n",
      "|     yr_built     |  None |  9.433635393724911   |  None  |\n",
      "|   yr_renovated   |  None |  56.072003448822365  |  None  |\n",
      "+------------------+-------+----------------------+--------+\n",
      "[18 rows x 4 columns]\n",
      "\n",
      "+------------------+-------+---------------------+---------------------+\n",
      "|       name       | index |        value        |        stderr       |\n",
      "+------------------+-------+---------------------+---------------------+\n",
      "|   (intercept)    |  None |  6870610.306945322  |  200759.2230432264  |\n",
      "|     bedrooms     |  None | -15608.736484652467 |   4306.69852875424  |\n",
      "| bedrooms_square  |  None |  490.4490906688851  |  261.78131938444443 |\n",
      "|    bathrooms     |  None |  55524.182269264595 |   4973.32493694067  |\n",
      "|   sqft_living    |  None |  864.6341251693644  |         nan         |\n",
      "| sqft_living_sqrt |  None | -52723.488704452204 |  1566.6002745647565 |\n",
      "|     sqft_lot     |  None |  1.0469831058328258 | 0.12739915555973097 |\n",
      "|  sqft_lot_sqrt   |  None |  -869.3934783995473 |  79.89931327620931  |\n",
      "|      floors      |  None |  -74062.17579186683 |  26717.66348783316  |\n",
      "|  floors_square   |  None |  25866.54096966988  |  7675.689867904438  |\n",
      "|    waterfront    |  None |  630120.1945510161  |  25328.79271873283  |\n",
      "|       view       |  None |  36533.55997953358  |  3153.4645427729583 |\n",
      "|    condition     |  None |  27790.504583456626 |  3591.5314094901237 |\n",
      "|      grade       |  None |  130267.2858851361  |  3098.9397175058234 |\n",
      "|    sqft_above    |  None |  -160.4406675360936 |         nan         |\n",
      "|  sqft_basement   |  None |  -164.456300043417  |         nan         |\n",
      "|     yr_built     |  None | -3299.7028693665457 |  102.8683951590061  |\n",
      "|   yr_renovated   |  None |  12.721802487230876 |   5.54965580050585  |\n",
      "+------------------+-------+---------------------+---------------------+\n",
      "[18 rows x 4 columns]\n",
      "\n"
     ]
    }
   ],
   "source": [
    "model.coefficients.print_rows(18)\n",
    "model1.coefficients.print_rows(18)"
   ]
  },
  {
   "cell_type": "markdown",
   "metadata": {},
   "source": [
    "# Limit the number of nonzero weights\n",
    "\n",
    "What if we absolutely wanted to limit ourselves to, say, 7 features? This may be important if we want to derive \"a rule of thumb\" --- an interpretable model that has only a few features in them."
   ]
  },
  {
   "cell_type": "markdown",
   "metadata": {},
   "source": [
    "In this section, you are going to implement a simple, two phase procedure to achive this goal:\n",
    "1. Explore a large range of `l1_penalty` values to find a narrow region of `l1_penalty` values where models are likely to have the desired number of non-zero weights.\n",
    "2. Further explore the narrow region you found to find a good value for `l1_penalty` that achieves the desired sparsity.  Here, we will again use a validation set to choose the best value for `l1_penalty`."
   ]
  },
  {
   "cell_type": "code",
   "execution_count": 46,
   "metadata": {},
   "outputs": [],
   "source": [
    "max_nonzeros = 7"
   ]
  },
  {
   "cell_type": "markdown",
   "metadata": {},
   "source": [
    "## Exploring the larger range of values to find a narrow range with the desired sparsity\n",
    "\n",
    "Let's define a wide range of possible `l1_penalty_values`:"
   ]
  },
  {
   "cell_type": "code",
   "execution_count": 47,
   "metadata": {},
   "outputs": [],
   "source": [
    "l1_penalty_values = np.logspace(8, 10, num=20)"
   ]
  },
  {
   "cell_type": "markdown",
   "metadata": {},
   "source": [
    "Now, implement a loop that search through this space of possible `l1_penalty` values:\n",
    "\n",
    "* For `l1_penalty` in `np.logspace(8, 10, num=20)`:\n",
    "    * Fit a regression model with a given `l1_penalty` on TRAIN data. Specify `l1_penalty=l1_penalty` and `l2_penalty=0.` in the parameter list. When you call `linear_regression.create()` make sure you set `validation_set = None`\n",
    "    * Extract the weights of the model and count the number of nonzeros. Save the number of nonzeros to a list.\n",
    "        * *Hint: `model.coefficients['value']` gives you an SArray with the parameters you learned.  If you call the method `.nnz()` on it, you will find the number of non-zero parameters!* "
   ]
  },
  {
   "cell_type": "code",
   "execution_count": 48,
   "metadata": {},
   "outputs": [],
   "source": [
    "nnz=np.array([])\n",
    "l1=np.array([])\n",
    "for l1_penalty in l1_penalty_values:\n",
    "    model=turicreate.linear_regression.create(training,\n",
    "                                              target='price',\n",
    "                                              features=all_features,\n",
    "                                             l1_penalty=l1_penalty,\n",
    "                                             l2_penalty=0,\n",
    "                                             validation_set=None,verbose = False)\n",
    "    nnz=np.append(nnz,[model.coefficients['value'].nnz()])\n",
    "    l1=np.append(l1,[l1_penalty])\n",
    "    "
   ]
  },
  {
   "cell_type": "code",
   "execution_count": 53,
   "metadata": {},
   "outputs": [
    {
     "name": "stdout",
     "output_type": "stream",
     "text": [
      "+--------------------+------+\n",
      "|         l1         | nnz  |\n",
      "+--------------------+------+\n",
      "|    100000000.0     | 18.0 |\n",
      "| 127427498.57031322 | 18.0 |\n",
      "| 162377673.91887242 | 18.0 |\n",
      "|  206913808.111479  | 18.0 |\n",
      "| 263665089.87303555 | 17.0 |\n",
      "| 335981828.6283788  | 17.0 |\n",
      "| 428133239.8719396  | 17.0 |\n",
      "| 545559478.1168514  | 17.0 |\n",
      "| 695192796.1775591  | 17.0 |\n",
      "| 885866790.4100832  | 16.0 |\n",
      "| 1128837891.6846883 | 15.0 |\n",
      "| 1438449888.2876658 | 15.0 |\n",
      "| 1832980710.8324375 | 13.0 |\n",
      "| 2335721469.0901213 | 12.0 |\n",
      "| 2976351441.6313133 | 10.0 |\n",
      "| 3792690190.7322536 | 6.0  |\n",
      "| 4832930238.571753  | 5.0  |\n",
      "| 6158482110.6602545 | 3.0  |\n",
      "| 7847599703.514623  | 1.0  |\n",
      "|   10000000000.0    | 1.0  |\n",
      "+--------------------+------+\n",
      "[20 rows x 2 columns]\n",
      "\n"
     ]
    }
   ],
   "source": [
    "handle_1=turicreate.SFrame({'l1':l1,'nnz':nnz})\n",
    "handle_1.print_rows(20)"
   ]
  },
  {
   "cell_type": "markdown",
   "metadata": {},
   "source": [
    "Out of this large range, we want to find the two ends of our desired narrow range of `l1_penalty`.  At one end, we will have `l1_penalty` values that have too few non-zeros, and at the other end, we will have an `l1_penalty` that has too many non-zeros.  \n",
    "\n",
    "More formally, find:\n",
    "* The largest `l1_penalty` that has more non-zeros than `max_nonzeros` (if we pick a penalty smaller than this value, we will definitely have too many non-zero weights)\n",
    "    * Store this value in the variable `l1_penalty_min` (we will use it later)\n",
    "* The smallest `l1_penalty` that has fewer non-zeros than `max_nonzeros` (if we pick a penalty larger than this value, we will definitely have too few non-zero weights)\n",
    "    * Store this value in the variable `l1_penalty_max` (we will use it later)\n",
    "\n",
    "\n",
    "*Hint: there are many ways to do this, e.g.:*\n",
    "* Programmatically within the loop above\n",
    "* Creating a list with the number of non-zeros for each value of `l1_penalty` and inspecting it to find the appropriate boundaries."
   ]
  },
  {
   "cell_type": "code",
   "execution_count": 56,
   "metadata": {},
   "outputs": [],
   "source": [
    "l1_penalty_min = handle_1['l1'][3]\n",
    "l1_penalty_max = handle_1['l1'][18]\n"
   ]
  },
  {
   "cell_type": "markdown",
   "metadata": {},
   "source": [
    "***QUIZ QUESTION.*** What values did you find for `l1_penalty_min` and `l1_penalty_max`, respectively? "
   ]
  },
  {
   "cell_type": "markdown",
   "metadata": {},
   "source": [
    "## Exploring the narrow range of values to find the solution with the right number of non-zeros that has lowest RSS on the validation set \n",
    "\n",
    "We will now explore the narrow region of `l1_penalty` values we found:"
   ]
  },
  {
   "cell_type": "code",
   "execution_count": 57,
   "metadata": {},
   "outputs": [],
   "source": [
    "l1_penalty_values = np.linspace(l1_penalty_min,l1_penalty_max,20)"
   ]
  },
  {
   "cell_type": "markdown",
   "metadata": {},
   "source": [
    "* For `l1_penalty` in `np.linspace(l1_penalty_min,l1_penalty_max,20)`:\n",
    "    * Fit a regression model with a given `l1_penalty` on TRAIN data. Specify `l1_penalty=l1_penalty` and `l2_penalty=0.` in the parameter list. When you call `linear_regression.create()` make sure you set `validation_set = None`\n",
    "    * Measure the RSS of the learned model on the VALIDATION set\n",
    "\n",
    "Find the model that the lowest RSS on the VALIDATION set and has sparsity *equal* to `max_nonzeros`."
   ]
  },
  {
   "cell_type": "code",
   "execution_count": 62,
   "metadata": {},
   "outputs": [
    {
     "name": "stdout",
     "output_type": "stream",
     "text": [
      "13\n"
     ]
    }
   ],
   "source": [
    "penalty_set=np.logspace(1,7,num=13)\n",
    "handle_2=turicreate.SFrame()\n",
    "array1_1=np.array([])\n",
    "array1_2=np.array([])\n",
    "array1_3=np.array([])\n",
    "print(penalty_set.size)\n",
    "for l1_penalty in l1_penalty_values:\n",
    "    model=turicreate.linear_regression.create(training,\n",
    "                                              target='price',\n",
    "                                              features=all_features,\n",
    "                                             l1_penalty=l1_penalty,\n",
    "                                             l2_penalty=0,\n",
    "                                             validation_set=None,verbose = False)\n",
    "    validation_output=model.predict(validation)\n",
    "    error=validation_output-validation['price']\n",
    "    rss=np.dot(error,error)\n",
    "    \n",
    "    array1_1=np.append(array1_1,[l1_penalty])\n",
    "    array1_2=np.append(array1_2,[rss])\n",
    "    array1_3=np.append(array1_3,[model.coefficients['value'].nnz()])\n",
    "#     print(l1_penalty, '-->', rss)"
   ]
  },
  {
   "cell_type": "code",
   "execution_count": 64,
   "metadata": {},
   "outputs": [
    {
     "name": "stdout",
     "output_type": "stream",
     "text": [
      "+--------------------+--------------------+------+\n",
      "|     l1_penalty     |        rss         | nnz  |\n",
      "+--------------------+--------------------+------+\n",
      "|  206913808.111479  | 630650082718674.5  | 18.0 |\n",
      "|  609055171.027434  | 653769798188253.2  | 17.0 |\n",
      "| 1011196533.9433889 | 689408481347851.5  | 16.0 |\n",
      "| 1413337896.8593438 | 734291272144302.8  | 15.0 |\n",
      "| 1815479259.7752988 | 793956426237549.9  | 13.0 |\n",
      "| 2217620622.6912537 | 849982040203357.8  | 12.0 |\n",
      "| 2619761985.6072083 | 913641680992875.9  | 11.0 |\n",
      "| 3021903348.5231633 | 974448934124820.9  | 10.0 |\n",
      "| 3424044711.4391184 | 1044917964832726.9 | 7.0  |\n",
      "| 3826186074.3550735 | 1085334503093306.6 | 6.0  |\n",
      "| 4228327437.2710285 | 1136859387334644.0 | 6.0  |\n",
      "| 4630468800.186983  | 1206918203420764.5 | 6.0  |\n",
      "| 5032610163.102938  | 1274425792050292.5 | 5.0  |\n",
      "| 5434751526.018893  | 1334883722509688.8 | 4.0  |\n",
      "| 5836892888.934848  | 1362827217871108.5 | 3.0  |\n",
      "| 6239034251.850803  | 1393461129647987.0 | 3.0  |\n",
      "| 6641175614.766758  | 1425254664089934.5 | 2.0  |\n",
      "| 7043316977.682713  | 1241290765528484.5 | 1.0  |\n",
      "| 7445458340.598668  | 1234945276324212.2 | 1.0  |\n",
      "| 7847599703.514623  | 1230794720455645.8 | 1.0  |\n",
      "+--------------------+--------------------+------+\n",
      "[20 rows x 3 columns]\n",
      "\n"
     ]
    }
   ],
   "source": [
    "handle_2['l1_penalty']=array1_1\n",
    "handle_2['rss']=array1_2\n",
    "handle_2['nnz']=array1_3\n",
    "handle_2.sort('rss',ascending=True)\n",
    "handle_2.print_rows(20)"
   ]
  },
  {
   "cell_type": "markdown",
   "metadata": {},
   "source": [
    "***QUIZ QUESTIONS***\n",
    "1. What value of `l1_penalty` in our narrow range has the lowest RSS on the VALIDATION set and has sparsity *equal* to `max_nonzeros`?\n",
    "2. What features in this model have non-zero coefficients?"
   ]
  },
  {
   "cell_type": "code",
   "execution_count": 66,
   "metadata": {},
   "outputs": [
    {
     "name": "stdout",
     "output_type": "stream",
     "text": [
      "+------------------+-------+----------------------+--------+\n",
      "|       name       | index |        value         | stderr |\n",
      "+------------------+-------+----------------------+--------+\n",
      "|   (intercept)    |  None |  31564.606473324176  |  None  |\n",
      "|     bedrooms     |  None |  7618.567764636495   |  None  |\n",
      "| bedrooms_square  |  None |  750.1709548829191   |  None  |\n",
      "|    bathrooms     |  None |  25026.177407617186  |  None  |\n",
      "|   sqft_living    |  None |  38.935915253109776  |  None  |\n",
      "| sqft_living_sqrt |  None |  1108.3863193708114  |  None  |\n",
      "|     sqft_lot     |  None | -0.01774476275138417 |  None  |\n",
      "|  sqft_lot_sqrt   |  None |  138.38532594587818  |  None  |\n",
      "|      floors      |  None |  20124.746720019688  |  None  |\n",
      "|  floors_square   |  None |  11975.497761696126  |  None  |\n",
      "|    waterfront    |  None |  532082.0756272507   |  None  |\n",
      "|       view       |  None |  88631.04255545625   |  None  |\n",
      "|    condition     |  None |  6082.626008198674   |  None  |\n",
      "|      grade       |  None |  6060.6779112246695  |  None  |\n",
      "|    sqft_above    |  None |  42.74031497907832   |  None  |\n",
      "|  sqft_basement   |  None |  115.24303664623339  |  None  |\n",
      "|     yr_built     |  None |  8.596902634509672   |  None  |\n",
      "|   yr_renovated   |  None |  40.62156230142575   |  None  |\n",
      "+------------------+-------+----------------------+--------+\n",
      "[18 rows x 4 columns]\n",
      "\n"
     ]
    }
   ],
   "source": [
    "final_model=turicreate.linear_regression.create(training,\n",
    "                                              target='price',\n",
    "                                              features=all_features,\n",
    "                                             l1_penalty=206913808.111479,\n",
    "                                             l2_penalty=0,\n",
    "                                             validation_set=None,verbose = False)\n",
    "final_model.coefficients.print_rows(18)"
   ]
  },
  {
   "cell_type": "code",
   "execution_count": null,
   "metadata": {},
   "outputs": [],
   "source": []
  }
 ],
 "metadata": {
  "kernelspec": {
   "display_name": "Python 3",
   "language": "python",
   "name": "python3"
  },
  "language_info": {
   "codemirror_mode": {
    "name": "ipython",
    "version": 3
   },
   "file_extension": ".py",
   "mimetype": "text/x-python",
   "name": "python",
   "nbconvert_exporter": "python",
   "pygments_lexer": "ipython3",
   "version": "3.6.9"
  }
 },
 "nbformat": 4,
 "nbformat_minor": 1
}
